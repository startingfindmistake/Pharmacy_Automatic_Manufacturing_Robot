{
 "cells": [
  {
   "cell_type": "code",
   "execution_count": 4,
   "id": "d2c73052-46f8-4fcb-8549-7a371a00c5ac",
   "metadata": {},
   "outputs": [
    {
     "name": "stdout",
     "output_type": "stream",
     "text": [
      "✅ 라이브러리 임포트 완료!\n"
     ]
    }
   ],
   "source": [
    "import os\n",
    "import pandas as pd\n",
    "import numpy as np\n",
    "import cv2\n",
    "from kaggle.api.kaggle_api_extended import KaggleApi\n",
    "from zipfile import ZipFile\n",
    "from tqdm import tqdm # 진행 상황을 시각적으로 보여주기 위한 라이브러리\n",
    "import matplotlib.pyplot as plt\n",
    "from sklearn.model_selection import train_test_split\n",
    "\n",
    "print(\"✅ 라이브러리 임포트 완료!\")"
   ]
  },
  {
   "cell_type": "code",
   "execution_count": 5,
   "id": "ed6529c9-a010-41bb-bbb4-7742f4da79ba",
   "metadata": {},
   "outputs": [
    {
     "name": "stdout",
     "output_type": "stream",
     "text": [
      "✅ 데이터셋이 이미 준비되었습니다.\n"
     ]
    }
   ],
   "source": [
    "# Kaggle API 설정\n",
    "kaggle_api = KaggleApi()\n",
    "kaggle_api.authenticate()\n",
    "\n",
    "# 데이터셋 다운로드 경로 및 파일 이름 설정\n",
    "dataset_name = 'gauravduttakiit/pharmaceutical-drug-recognition'\n",
    "download_path = '.'\n",
    "zip_file_name = 'pharmaceutical-drug-recognition.zip'\n",
    "\n",
    "# 데이터셋이 이미 준비되지 않았다면 다운로드 및 압축 해제\n",
    "if not os.path.exists('train'):\n",
    "    print(\"데이터셋 다운로드를 시작합니다...\")\n",
    "    kaggle_api.dataset_download_files(dataset_name, path=download_path, quiet=False)\n",
    "    \n",
    "    print(f\"'{zip_file_name}' 파일 압축 해제를 시작합니다...\")\n",
    "    with ZipFile(zip_file_name, 'r') as zip_ref:\n",
    "        zip_ref.extractall(download_path)\n",
    "    \n",
    "    os.remove(zip_file_name)\n",
    "    print(\"✅ 데이터셋 준비 완료!\")\n",
    "else:\n",
    "    print(\"✅ 데이터셋이 이미 준비되었습니다.\")"
   ]
  },
  {
   "cell_type": "markdown",
   "id": "71c68ffb-53dd-4c7c-abb1-ad8978383b9b",
   "metadata": {},
   "source": [
    "## 평균 + 회전\n",
    "각 약품의 평균 윤곽선 템플릿을 만들고, 이를 여러 각도로 회전시켜 최종 템플릿 세트를 준비합니다."
   ]
  },
  {
   "cell_type": "code",
   "execution_count": 6,
   "id": "1f955720-0bbe-4c1d-b756-1f503c8f265d",
   "metadata": {},
   "outputs": [
    {
     "name": "stdout",
     "output_type": "stream",
     "text": [
      "고급 템플릿(평균 윤곽선 + 회전) 생성을 시작합니다...\n"
     ]
    },
    {
     "name": "stderr",
     "output_type": "stream",
     "text": [
      "템플릿 생성 중: 100%|██████████████████████████████████████████████████████████████████| 10/10 [00:00<00:00, 80.24it/s]"
     ]
    },
    {
     "name": "stdout",
     "output_type": "stream",
     "text": [
      "✅ 모든 고급 템플릿 생성을 완료했습니다.\n"
     ]
    },
    {
     "name": "stderr",
     "output_type": "stream",
     "text": [
      "\n"
     ]
    }
   ],
   "source": [
    "# --- 템플릿 생성을 위한 상수 정의 ---\n",
    "DATA_DIR = 'train'\n",
    "CSV_FILE = 'Training_set.csv'\n",
    "IMG_SIZE = (128, 128)\n",
    "NUM_IMAGES_FOR_AVERAGE = 10  # 평균 템플릿을 만들기 위해 사용할 이미지 개수\n",
    "ROTATION_ANGLES = [-30, -20, -10, 0, 10, 20, 30] # 템플릿을 회전시킬 각도\n",
    "AVERAGE_THRESHOLD_PERCENT = 0.3 # 평균 이미지에서 윤곽선으로 판단할 임계값 (30%)\n",
    "\n",
    "# --- 데이터 분할 ---\n",
    "df_full = pd.read_csv(CSV_FILE)\n",
    "df_template_creation, df_evaluation = train_test_split(\n",
    "    df_full, test_size=0.2, random_state=42, stratify=df_full['label'])\n",
    "\n",
    "# --- 평균 윤곽선 + 회전 템플릿 생성 ---\n",
    "drug_classes = df_full['label'].unique()\n",
    "# 구조: {'약품이름': [(각도1, 회전템플릿1), (각도2, 회전템플릿2), ...]}\n",
    "templates = {drug: [] for drug in drug_classes}\n",
    "\n",
    "print(\"고급 템플릿(평균 윤곽선 + 회전) 생성을 시작합니다...\")\n",
    "\n",
    "for drug in tqdm(drug_classes, desc=\"템플릿 생성 중\"):\n",
    "    # 1. 평균 윤곽선 템플릿 생성\n",
    "    template_rows = df_template_creation[df_template_creation['label'] == drug].head(NUM_IMAGES_FOR_AVERAGE)\n",
    "    canny_images = []\n",
    "    for index, row in template_rows.iterrows():\n",
    "        path = os.path.join(DATA_DIR, row['filename'])\n",
    "        img = cv2.imread(path, cv2.IMREAD_GRAYSCALE)\n",
    "        img = cv2.resize(img, IMG_SIZE)\n",
    "        canny_images.append(cv2.Canny(img, 50, 150))\n",
    "\n",
    "    # 여러 윤곽선 이미지를 평균내어 '확률 맵' 생성\n",
    "    mean_canny_image = np.mean(canny_images, axis=0)\n",
    "    # 특정 임계값 이상인 픽셀만 최종 윤곽선으로 선택\n",
    "    threshold_value = 255 * AVERAGE_THRESHOLD_PERCENT\n",
    "    _, average_edge_template = cv2.threshold(mean_canny_image, threshold_value, 255, cv2.THRESH_BINARY)\n",
    "    average_edge_template = average_edge_template.astype(np.uint8)\n",
    "\n",
    "    # 2. 평균 템플릿을 여러 각도로 회전하여 저장\n",
    "    center = (IMG_SIZE[0] // 2, IMG_SIZE[1] // 2)\n",
    "    for angle in ROTATION_ANGLES:\n",
    "        M = cv2.getRotationMatrix2D(center, angle, 1.0)\n",
    "        rotated_template = cv2.warpAffine(average_edge_template, M, IMG_SIZE, flags=cv2.INTER_LINEAR)\n",
    "        templates[drug].append(rotated_template)\n",
    "\n",
    "print(\"✅ 모든 고급 템플릿 생성을 완료했습니다.\")"
   ]
  },
  {
   "cell_type": "code",
   "execution_count": 7,
   "id": "cf96ce86-ef5e-4ce5-8266-90a309e99859",
   "metadata": {},
   "outputs": [
    {
     "name": "stdout",
     "output_type": "stream",
     "text": [
      "\n",
      "이미지 피라미드와 회전 템플릿을 사용하여 종합 평가를 시작합니다...\n"
     ]
    },
    {
     "name": "stderr",
     "output_type": "stream",
     "text": [
      "평가 진행 중: 100%|████████████████████████████████████████████████████████████████| 1400/1400 [00:19<00:00, 71.47it/s]"
     ]
    },
    {
     "name": "stdout",
     "output_type": "stream",
     "text": [
      "\n",
      "✅ 평가 완료!\n",
      "정확하게 예측한 이미지 수: 160 / 1400\n",
      "최종 정확도 (Accuracy): 11.43%\n"
     ]
    },
    {
     "name": "stderr",
     "output_type": "stream",
     "text": [
      "\n"
     ]
    }
   ],
   "source": [
    "# --- 평가를 위한 상수 정의 ---\n",
    "SCALES = [0.9, 1.0, 1.1] # 이미지 피라미드 스케일\n",
    "\n",
    "correct_predictions = 0\n",
    "total_predictions = len(df_evaluation)\n",
    "\n",
    "print(\"\\n이미지 피라미드와 회전 템플릿을 사용하여 종합 평가를 시작합니다...\")\n",
    "\n",
    "for index, row in tqdm(df_evaluation.iterrows(), total=total_predictions, desc=\"평가 진행 중\"):\n",
    "    test_image_path = os.path.join(DATA_DIR, row['filename'])\n",
    "    true_label = row['label']\n",
    "    \n",
    "    test_image_gray = cv2.imread(test_image_path, cv2.IMREAD_GRAYSCALE)\n",
    "    if test_image_gray is None: continue\n",
    "\n",
    "    overall_best_score = -1\n",
    "    predicted_label = None\n",
    "\n",
    "    # 1. 이미지 피라미드: 테스트 이미지를 여러 크기로 순회\n",
    "    for scale in SCALES:\n",
    "        width = int(IMG_SIZE[0] * scale)\n",
    "        height = int(IMG_SIZE[1] * scale)\n",
    "        resized_test_image = cv2.resize(test_image_gray, (width, height))\n",
    "        test_image_canny = cv2.Canny(resized_test_image, 50, 150)\n",
    "\n",
    "        # 2. 모든 약품 클래스 순회\n",
    "        for drug_name, rotated_templates in templates.items():\n",
    "            # 3. 모든 회전 템플릿 순회\n",
    "            for rotated_template in rotated_templates:\n",
    "                # 템플릿이 테스트 이미지보다 크면 매칭 불가\n",
    "                if rotated_template.shape[0] > test_image_canny.shape[0] or rotated_template.shape[1] > test_image_canny.shape[1]:\n",
    "                    continue\n",
    "\n",
    "                result = cv2.matchTemplate(test_image_canny, rotated_template, cv2.TM_CCOEFF_NORMED)\n",
    "                _, max_val, _, _ = cv2.minMaxLoc(result)\n",
    "                \n",
    "                # 전체 스케일과 회전을 통틀어 최고 점수 갱신\n",
    "                if max_val > overall_best_score:\n",
    "                    overall_best_score = max_val\n",
    "                    predicted_label = drug_name\n",
    "            \n",
    "    if predicted_label == true_label:\n",
    "        correct_predictions += 1\n",
    "\n",
    "accuracy = (correct_predictions / total_predictions) * 100\n",
    "\n",
    "print(\"\\n✅ 평가 완료!\")\n",
    "print(f\"정확하게 예측한 이미지 수: {correct_predictions} / {total_predictions}\")\n",
    "print(f\"최종 정확도 (Accuracy): {accuracy:.2f}%\")"
   ]
  },
  {
   "cell_type": "code",
   "execution_count": null,
   "id": "037af48b-fb66-4ef6-a11b-6e917685a3a3",
   "metadata": {},
   "outputs": [],
   "source": []
  }
 ],
 "metadata": {
  "kernelspec": {
   "display_name": "Python 3 (ipykernel)",
   "language": "python",
   "name": "python3"
  },
  "language_info": {
   "codemirror_mode": {
    "name": "ipython",
    "version": 3
   },
   "file_extension": ".py",
   "mimetype": "text/x-python",
   "name": "python",
   "nbconvert_exporter": "python",
   "pygments_lexer": "ipython3",
   "version": "3.11.13"
  }
 },
 "nbformat": 4,
 "nbformat_minor": 5
}
