{
 "cells": [
  {
   "cell_type": "markdown",
   "id": "230eefde-d741-4005-b874-64b81f057e3f",
   "metadata": {},
   "source": [
    "Pharmaceutical Drug Recognition\n",
    "Identify the Pharmaceutical Drug used from the given image\n",
    "https://www.kaggle.com/datasets/gauravduttakiit/pharmaceutical-drug-recognition/data\n",
    "\n",
    "\n",
    "\n",
    "s"
   ]
  },
  {
   "cell_type": "markdown",
   "id": "3f244bb7",
   "metadata": {},
   "source": [
    "## 라이브러리 임포트"
   ]
  },
  {
   "cell_type": "code",
   "execution_count": null,
   "id": "b71d6072-efa9-4de8-90c5-0af5e19a2bed",
   "metadata": {},
   "outputs": [
    {
     "name": "stdout",
     "output_type": "stream",
     "text": [
      "✅ 라이브러리 임포트 완료!\n"
     ]
    }
   ],
   "source": [
    "import os\n",
    "import shutil\n",
    "import pandas as pd\n",
    "import numpy as np\n",
    "\n",
    "# openCV 이미지 불러오고 크기 조절 , 이미지 처리\n",
    "import cv2\n",
    "import tensorflow as tf\n",
    "from kaggle.api.kaggle_api_extended import KaggleApi\n",
    "from zipfile import ZipFile\n",
    "\n",
    "# 레이블 인코딩 및 데이터 분할과 같은 데이터 전처리를 처리 라이브러리\n",
    "from sklearn.model_selection import train_test_split\n",
    "from sklearn.preprocessing import LabelEncoder\n",
    "\n",
    "# 딥러닝 모델 만들고 학습 라이브러리\n",
    "from tensorflow.keras.models import Sequential\n",
    "from tensorflow.keras.layers import Conv2D, MaxPooling2D, Flatten, Dense, Dropout\n",
    "from tensorflow.keras.utils import to_categorical\n",
    "\n",
    "print(\"✅ 라이브러리 임포트 완료!\")"
   ]
  },
  {
   "cell_type": "markdown",
   "id": "fcd3ee61",
   "metadata": {},
   "source": [
    "## 데이터셋 준비 (Dataset Preparation)"
   ]
  },
  {
   "cell_type": "code",
   "execution_count": null,
   "id": "6563554d-ad10-41b3-9310-d70afa2afd96",
   "metadata": {},
   "outputs": [
    {
     "name": "stdout",
     "output_type": "stream",
     "text": [
      "데이터셋 다운로드를 시작합니다...\n",
      "Dataset URL: https://www.kaggle.com/datasets/gauravduttakiit/pharmaceutical-drug-recognition\n",
      "Downloading pharmaceutical-drug-recognition.zip to .\n"
     ]
    },
    {
     "name": "stderr",
     "output_type": "stream",
     "text": [
      "100%|███████████████████████████████████████████████████████████████████████████████| 200M/200M [00:00<00:00, 1.78GB/s]"
     ]
    },
    {
     "name": "stdout",
     "output_type": "stream",
     "text": [
      "\n",
      "'pharmaceutical-drug-recognition.zip' 파일 압축 해제를 시작합니다...\n"
     ]
    },
    {
     "name": "stderr",
     "output_type": "stream",
     "text": [
      "\n"
     ]
    },
    {
     "name": "stdout",
     "output_type": "stream",
     "text": [
      "✅ 데이터셋 준비 완료!\n",
      " C 드라이브의 볼륨에는 이름이 없습니다.\n",
      " 볼륨 일련 번호: 181E-E7B6\n",
      "\n",
      " C:\\Users\\dudgh 디렉터리\n",
      "\n",
      "2025-08-13  오후 04:21    <DIR>          .\n",
      "2025-01-20  오전 01:53    <DIR>          ..\n",
      "2025-07-16  오후 05:54         5,877,368 $race_car_track_x264.mp4\n",
      "2025-07-09  오후 09:26             3,426 .bash_history\n",
      "2024-11-07  오후 02:11    <DIR>          .bundle\n",
      "2025-07-17  오후 09:17    <DIR>          .cache\n",
      "2024-01-09  오전 12:00    <DIR>          .conda\n",
      "2024-01-08  오후 11:59                68 .condarc\n",
      "2025-05-15  오후 10:44    <DIR>          .cursor\n",
      "2025-05-20  오후 10:05    <DIR>          .docker\n",
      "2025-06-11  오전 10:55    <DIR>          .dotnet\n",
      "2025-05-20  오후 10:01                64 .gitconfig\n",
      "2025-08-13  오후 03:51    <DIR>          .ipynb_checkpoints\n",
      "2024-01-09  오후 10:52    <DIR>          .ipython\n",
      "2024-01-09  오후 10:59    <DIR>          .jupyter\n",
      "2025-08-13  오후 04:00    <DIR>          .kaggle\n",
      "2024-10-08  오후 08:51    <DIR>          .keras\n",
      "2024-11-07  오후 02:09    <DIR>          .local\n",
      "2024-08-13  오전 12:03    <DIR>          .matplotlib\n",
      "2024-10-27  오후 07:35    <DIR>          .nuget\n",
      "2025-07-11  오전 01:13                39 .python_history\n",
      "2024-10-27  오후 07:32    <DIR>          .templateengine\n",
      "2025-07-09  오후 09:25             9,556 .viminfo\n",
      "2025-08-12  오후 02:55    <DIR>          .VirtualBox\n",
      "2023-12-26  오후 06:27    <DIR>          .vscode\n",
      "2025-07-11  오전 01:36             9,841 AMDRM_Install.log\n",
      "2023-12-26  오후 05:25         3,723,058 AMD_RyzenMaster.log\n",
      "2023-12-26  오후 05:33         2,571,562 AMD_RyzenMaster_Uninstall.log\n",
      "2025-03-21  오전 12:05    <DIR>          ansel\n",
      "2025-07-15  오후 11:26           312,226 Apollo_11_Launch.jpg\n",
      "2024-09-23  오후 09:19             5,891 Biobigdata.ipynb\n",
      "2025-07-17  오후 08:50           261,393 boat.jpg\n",
      "2025-07-17  오후 08:50            48,824 cat-dog.jpg\n",
      "2025-07-15  오후 08:04               133 checkerboard_18x18.png\n",
      "2025-07-15  오후 03:26             1,977 checkerboard_84x84.jpg\n",
      "2025-07-15  오후 03:26            93,618 checkerboard_color.png\n",
      "2025-07-15  오후 03:26             3,952 checkerboard_fuzzy_18x18.jpg\n",
      "2024-09-10  오전 01:01           630,166 Classification_analysis(분류분석).ipynb\n",
      "2024-09-10  오전 12:58               182 clf_result.csv\n",
      "2025-07-15  오후 03:26           179,864 coca-cola-logo.png\n",
      "2025-07-17  오후 06:10               713 coco_class_labels.txt\n",
      "2025-01-20  오전 03:24    <DIR>          Contacts\n",
      "2025-07-15  오후 08:51           123,764 cropped_region.png\n",
      "2025-06-30  오후 11:19    <DIR>          Desktop\n",
      "2025-07-15  오후 03:26               972 display_image.py\n",
      "2025-08-13  오후 03:50    <DIR>          Documents\n",
      "2025-08-13  오후 03:38    <DIR>          Downloads\n",
      "2024-10-29  오후 10:19           825,531 ecodata.ipynb\n",
      "2025-01-20  오전 03:24    <DIR>          Favorites\n",
      "2025-07-17  오후 08:50           200,615 football.jpg\n",
      "2025-07-16  오후 12:16       387,872,732 goturn.caffemodel\n",
      "2025-07-16  오후 12:16             7,949 goturn.prototxt\n",
      "2025-07-17  오후 06:09    <DIR>          images\n",
      "2025-07-17  오후 08:50           212,682 kitchen.jpg\n",
      "2025-01-20  오전 03:24    <DIR>          Links\n",
      "2024-09-07  오전 12:10           158,730 Logistic_Regression(로지스틱 회귀).ipynb\n",
      "2025-07-16  오후 05:40    <DIR>          miniconda3\n",
      "2025-07-17  오후 07:23               448 mnist_0.jpg\n",
      "2025-07-17  오후 07:24               436 mnist_1.jpg\n",
      "2025-07-17  오후 06:10    <DIR>          models\n",
      "2025-07-17  오후 08:50           166,785 monitor.jpg\n",
      "2024-09-07  오후 01:23           451,887 Multiple_Regression(다중 회귀).ipynb\n",
      "2025-01-20  오전 03:24    <DIR>          Music\n",
      "2024-10-18  오후 04:38    <DIR>          My project\n",
      "2024-10-27  오후 06:43    <DIR>          My project (1)\n",
      "2024-09-23  오후 09:14                24 name.txt\n",
      "2025-07-15  오후 08:04           208,545 New_Zealand_Boat.jpg\n",
      "2025-07-15  오후 03:26           168,404 New_Zealand_Lake.jpg\n",
      "2025-07-15  오후 06:01           844,934 New_Zealand_Lake_SAVED.png\n",
      "2023-12-26  오후 03:37    <DIR>          OneDrive\n",
      "2025-07-15  오후 03:26           371,856 opencv_bootcamp_assets_NB1.zip\n",
      "2025-07-16  오후 12:16       370,328,450 opencv_bootcamp_assets_NB11.zip\n",
      "2025-07-17  오후 06:09        64,101,834 opencv_bootcamp_assets_NB13.zip\n",
      "2025-07-15  오후 08:04           195,366 opencv_bootcamp_assets_NB2.zip\n",
      "2025-07-15  오후 11:26           297,721 opencv_bootcamp_assets_NB3.zip\n",
      "2025-07-16  오전 12:08         3,930,624 openCV_Class1.ipynb\n",
      "2025-07-16  오전 12:08         2,477,046 openCV_Class2.ipynb\n",
      "2025-07-16  오후 11:42    <DIR>          Pictures\n",
      "2024-09-07  오후 03:23           109,476 Polynomial_regression(다항 회귀).ipynb\n",
      "2025-07-17  오후 08:06            47,148 PyTorch_기초.ipynb\n",
      "2025-07-16  오후 05:54         8,640,084 race_car-KCF.mp4\n",
      "2025-07-16  오후 12:16        10,866,616 race_car.mp4\n",
      "2024-09-09  오전 01:00           439,256 Regression_Analysis(회귀분석).ipynb\n",
      "2024-09-09  오전 12:18           105,613 reg_result.csv\n",
      "2025-07-15  오후 08:50           367,560 resized_cropped_region_2x.png\n",
      "2025-07-17  오후 08:53    <DIR>          runs\n",
      "2025-01-20  오전 03:24    <DIR>          Saved Games\n",
      "2024-09-09  오전 12:10    <DIR>          scikit_learn_data\n",
      "2025-05-24  오후 11:22    <DIR>          Searches\n",
      "2024-09-07  오후 04:12            60,272 Simple_Linear_Regression_Model(단순 선형 회귀).ipynb\n",
      "2024-10-14  오후 11:56    <DIR>          source\n",
      "2024-11-12  오후 07:19    <DIR>          startingfindmistake.github.io\n",
      "2024-01-09  오후 01:04                 0 Sti_Trace.log\n",
      "2025-08-13  오후 04:19    <DIR>          test\n",
      "2025-08-13  오후 04:21            46,903 Testing_set.csv\n",
      "2025-07-17  오후 06:09            11,770 tf_text_graph_ssd.py\n",
      "2025-07-17  오후 06:37         5,251,286 TF_객체_감지.ipynb\n",
      "2025-07-17  오후 08:50           712,550 tiger.jpg\n",
      "2025-08-13  오후 04:19    <DIR>          train\n",
      "2025-08-13  오후 04:21           168,309 Training_set.csv\n",
      "2025-08-13  오후 01:29               618 Untitled.ipynb\n",
      "2025-08-13  오후 04:20             4,036 Untitled1.ipynb\n",
      "2025-01-20  오전 03:24    <DIR>          Videos\n",
      "2025-08-12  오후 02:35    <DIR>          VirtualBox VMs\n",
      "2024-10-27  오후 08:50    <DIR>          wind\n",
      "2024-10-23  오후 08:02    <DIR>          wind plant\n",
      "2024-10-23  오후 06:25    <DIR>          wind turbin\n",
      "2025-07-17  오후 08:53        28,553,700 yolo11l-cls.pt\n",
      "2025-07-17  오후 08:53        53,120,908 yolo11l-obb.pt\n",
      "2025-07-17  오후 08:52        53,164,402 yolo11l-pose.pt\n",
      "2025-07-17  오후 08:52        56,096,965 yolo11l-seg.pt\n",
      "2025-07-17  오후 08:51        51,387,343 yolo11l.pt\n",
      "2025-07-17  오후 08:54         3,170,725 YOLO11_test.ipynb\n",
      "2025-07-17  오후 08:50           258,922 zebra.jpg\n",
      "2025-07-16  오후 05:58        15,510,331 객체_추척.ipynb\n",
      "2025-07-16  오전 12:08         1,443,953 이미지_주석_달기.ipynb\n",
      "2025-07-17  오후 11:28            85,169 치과_AI_project.ipynb\n",
      "2024-10-08  오전 11:57           594,024 풍력발전량_통계분석_데이터.csv\n",
      "              71개 파일       1,136,899,195 바이트\n",
      "              47개 디렉터리  579,524,861,952 바이트 남음\n"
     ]
    }
   ],
   "source": [
    "# Kaggle API 설정\n",
    "kaggle_api = KaggleApi()\n",
    "kaggle_api.authenticate()\n",
    "\n",
    "# 데이터셋 다운로드 경로 및 파일 이름 설정\n",
    "dataset_name = 'gauravduttakiit/pharmaceutical-drug-recognition'\n",
    "download_path = '.'\n",
    "zip_file_name = 'pharmaceutical-drug-recognition.zip'\n",
    "\n",
    "print(\"데이터셋 다운로드를 시작합니다...\")\n",
    "# 데이터셋 다운로드\n",
    "kaggle_api.dataset_download_files(dataset_name, path=download_path, quiet=False)\n",
    "\n",
    "# 압축 해제\n",
    "print(f\"'{zip_file_name}' 파일 압축 해제를 시작합니다...\")\n",
    "with ZipFile(zip_file_name, 'r') as zip_ref:\n",
    "    zip_ref.extractall(download_path)\n",
    "\n",
    "# 불필요한 zip 파일 삭제\n",
    "os.remove(zip_file_name)\n",
    "\n",
    "print(\"✅ 데이터셋 준비 완료!\")\n",
    " # train, test 폴더가 있는지 확인\n",
    "!dir"
   ]
  },
  {
   "cell_type": "markdown",
   "id": "c33344c6",
   "metadata": {},
   "source": [
    "## 데이터 전처리 및 분할 (Data Preprocessing and Splitting)"
   ]
  },
  {
   "cell_type": "code",
   "execution_count": null,
   "id": "453950da-32aa-40f6-82f3-5ff43efbe065",
   "metadata": {},
   "outputs": [
    {
     "name": "stdout",
     "output_type": "stream",
     "text": [
      "'Training_set.csv' 파일을 로드합니다.\n",
      "이미지 파일을 로딩하고 리사이즈합니다...\n",
      "✅ 총 7000개의 이미지를 성공적으로 불러왔습니다.\n"
     ]
    }
   ],
   "source": [
    "# --- 상수 및 경로 설정 ---\n",
    "DATA_DIR = 'train'\n",
    "CSV_FILE = 'Training_set.csv'\n",
    "IMG_SIZE = 128\n",
    "\n",
    "# --- CSV 파일 로드 ---\n",
    "print(f\"'{CSV_FILE}' 파일을 로드합니다.\")\n",
    "df = pd.read_csv(CSV_FILE)\n",
    "\n",
    "# --- 이미지 경로 생성 ---\n",
    "# 각 이미지의 전체 경로를 담을 새로운 열(column)을 생성합니다.\n",
    "df['image_path'] = df['filename'].apply(lambda f: os.path.join(DATA_DIR, f))\n",
    "\n",
    "# --- 이미지 및 레이블 로드 ---\n",
    "images = []\n",
    "labels = []\n",
    "\n",
    "print(\"이미지 파일을 로딩하고 리사이즈합니다...\")\n",
    "for index, row in df.iterrows():\n",
    "    image_path = row['image_path']\n",
    "    label = row['label']\n",
    "\n",
    "    try:\n",
    "        img_array = cv2.imread(image_path)\n",
    "        if img_array is not None:\n",
    "            img_resized = cv2.resize(img_array, (IMG_SIZE, IMG_SIZE))\n",
    "            images.append(img_resized)\n",
    "            labels.append(label)\n",
    "        else:\n",
    "            print(f\"경고: 이미지를 로드할 수 없습니다 - {image_path}\")\n",
    "    except Exception as e:\n",
    "        print(f\"오류 발생: {e}, 파일: {image_path}\")\n",
    "\n",
    "# NumPy 배열로 변환\n",
    "images = np.array(images)\n",
    "labels = np.array(labels)\n",
    "\n",
    "# 이미지 데이터 정규화 (0~1 사이 값으로)\n",
    "# 이미지의 각 픽셀 값을 0~255 범위에서 0~1 사이의 값으로 변환 합니다.\n",
    "images = images / 255.0\n",
    "\n",
    "print(f\"✅ 총 {len(images)}개의 이미지를 성공적으로 불러왔습니다.\")"
   ]
  },
  {
   "cell_type": "code",
   "execution_count": null,
   "id": "59ec1ddf-d890-409f-8f4a-4c04955d62e4",
   "metadata": {},
   "outputs": [
    {
     "name": "stdout",
     "output_type": "stream",
     "text": [
      "총 클래스 개수: 10\n",
      "\n",
      "✅ 데이터 분할 완료!\n",
      "훈련 데이터 형태: (5600, 128, 128, 3), (5600, 10)\n",
      "검증 데이터 형태: (700, 128, 128, 3), (700, 10)\n",
      "테스트 데이터 형태: (700, 128, 128, 3), (700, 10)\n"
     ]
    }
   ],
   "source": [
    "# --- 레이블 인코딩 ---\n",
    "# 1. LabelEncoder를 사용해 문자열 레이블을 숫자(0, 1, 2...)로 변환\n",
    "label_encoder = LabelEncoder()\n",
    "labels_encoded = label_encoder.fit_transform(labels)\n",
    "\n",
    "# 2. 클래스 개수 확인\n",
    "num_classes = len(label_encoder.classes_)\n",
    "print(f\"총 클래스 개수: {num_classes}\")\n",
    "\n",
    "# 3. to_categorical을 사용해 원-핫(One-Hot) 벡터로 변환\n",
    "# 변환된 숫자 레이블을 `to_coategorical()` 사용해 원-핫 벡터 형태로 만든다.\n",
    "# 다중 분류 모델의 정답 형식으로 적합\n",
    "labels_categorical = to_categorical(labels_encoded, num_classes=num_classes)\n",
    "\n",
    "\n",
    "# --- 데이터 분할 ---\n",
    "# 훈련(80%), 검증(10%), 테스트(10%) 세트로 분할\n",
    "X_train, X_rem, y_train, y_rem = train_test_split(images, labels_categorical, train_size=0.8, random_state=42, stratify=labels_categorical)\n",
    "X_val, X_test, y_val, y_test = train_test_split(X_rem, y_rem, test_size=0.5, random_state=42, stratify=y_rem)\n",
    "\n",
    "print(\"\\n✅ 데이터 분할 완료!\")\n",
    "print(f\"훈련 데이터 형태: {X_train.shape}, {y_train.shape}\")\n",
    "print(f\"검증 데이터 형태: {X_val.shape}, {y_val.shape}\")\n",
    "print(f\"테스트 데이터 형태: {X_test.shape}, {y_test.shape}\")"
   ]
  },
  {
   "cell_type": "markdown",
   "id": "c31de2f6",
   "metadata": {},
   "source": [
    "## CNN 모델 설계 및 학습 (CNN Model Design and Trainging)"
   ]
  },
  {
   "cell_type": "code",
   "execution_count": null,
   "id": "51780272",
   "metadata": {},
   "outputs": [],
   "source": []
  },
  {
   "cell_type": "code",
   "execution_count": null,
   "id": "5766ae97-ac38-4fef-94f8-e31be3f308b8",
   "metadata": {},
   "outputs": [
    {
     "name": "stderr",
     "output_type": "stream",
     "text": [
      "C:\\Users\\dudgh\\miniconda3\\Lib\\site-packages\\keras\\src\\layers\\convolutional\\base_conv.py:107: UserWarning: Do not pass an `input_shape`/`input_dim` argument to a layer. When using Sequential models, prefer using an `Input(shape)` object as the first layer in the model instead.\n",
      "  super().__init__(activity_regularizer=activity_regularizer, **kwargs)\n"
     ]
    },
    {
     "data": {
      "text/html": [
       "<pre style=\"white-space:pre;overflow-x:auto;line-height:normal;font-family:Menlo,'DejaVu Sans Mono',consolas,'Courier New',monospace\"><span style=\"font-weight: bold\">Model: \"sequential\"</span>\n",
       "</pre>\n"
      ],
      "text/plain": [
       "\u001b[1mModel: \"sequential\"\u001b[0m\n"
      ]
     },
     "metadata": {},
     "output_type": "display_data"
    },
    {
     "data": {
      "text/html": [
       "<pre style=\"white-space:pre;overflow-x:auto;line-height:normal;font-family:Menlo,'DejaVu Sans Mono',consolas,'Courier New',monospace\">┏━━━━━━━━━━━━━━━━━━━━━━━━━━━━━━━━━━━━━━┳━━━━━━━━━━━━━━━━━━━━━━━━━━━━━┳━━━━━━━━━━━━━━━━━┓\n",
       "┃<span style=\"font-weight: bold\"> Layer (type)                         </span>┃<span style=\"font-weight: bold\"> Output Shape                </span>┃<span style=\"font-weight: bold\">         Param # </span>┃\n",
       "┡━━━━━━━━━━━━━━━━━━━━━━━━━━━━━━━━━━━━━━╇━━━━━━━━━━━━━━━━━━━━━━━━━━━━━╇━━━━━━━━━━━━━━━━━┩\n",
       "│ conv2d (<span style=\"color: #0087ff; text-decoration-color: #0087ff\">Conv2D</span>)                      │ (<span style=\"color: #00d7ff; text-decoration-color: #00d7ff\">None</span>, <span style=\"color: #00af00; text-decoration-color: #00af00\">126</span>, <span style=\"color: #00af00; text-decoration-color: #00af00\">126</span>, <span style=\"color: #00af00; text-decoration-color: #00af00\">32</span>)        │             <span style=\"color: #00af00; text-decoration-color: #00af00\">896</span> │\n",
       "├──────────────────────────────────────┼─────────────────────────────┼─────────────────┤\n",
       "│ max_pooling2d (<span style=\"color: #0087ff; text-decoration-color: #0087ff\">MaxPooling2D</span>)         │ (<span style=\"color: #00d7ff; text-decoration-color: #00d7ff\">None</span>, <span style=\"color: #00af00; text-decoration-color: #00af00\">63</span>, <span style=\"color: #00af00; text-decoration-color: #00af00\">63</span>, <span style=\"color: #00af00; text-decoration-color: #00af00\">32</span>)          │               <span style=\"color: #00af00; text-decoration-color: #00af00\">0</span> │\n",
       "├──────────────────────────────────────┼─────────────────────────────┼─────────────────┤\n",
       "│ conv2d_1 (<span style=\"color: #0087ff; text-decoration-color: #0087ff\">Conv2D</span>)                    │ (<span style=\"color: #00d7ff; text-decoration-color: #00d7ff\">None</span>, <span style=\"color: #00af00; text-decoration-color: #00af00\">61</span>, <span style=\"color: #00af00; text-decoration-color: #00af00\">61</span>, <span style=\"color: #00af00; text-decoration-color: #00af00\">64</span>)          │          <span style=\"color: #00af00; text-decoration-color: #00af00\">18,496</span> │\n",
       "├──────────────────────────────────────┼─────────────────────────────┼─────────────────┤\n",
       "│ max_pooling2d_1 (<span style=\"color: #0087ff; text-decoration-color: #0087ff\">MaxPooling2D</span>)       │ (<span style=\"color: #00d7ff; text-decoration-color: #00d7ff\">None</span>, <span style=\"color: #00af00; text-decoration-color: #00af00\">30</span>, <span style=\"color: #00af00; text-decoration-color: #00af00\">30</span>, <span style=\"color: #00af00; text-decoration-color: #00af00\">64</span>)          │               <span style=\"color: #00af00; text-decoration-color: #00af00\">0</span> │\n",
       "├──────────────────────────────────────┼─────────────────────────────┼─────────────────┤\n",
       "│ conv2d_2 (<span style=\"color: #0087ff; text-decoration-color: #0087ff\">Conv2D</span>)                    │ (<span style=\"color: #00d7ff; text-decoration-color: #00d7ff\">None</span>, <span style=\"color: #00af00; text-decoration-color: #00af00\">28</span>, <span style=\"color: #00af00; text-decoration-color: #00af00\">28</span>, <span style=\"color: #00af00; text-decoration-color: #00af00\">128</span>)         │          <span style=\"color: #00af00; text-decoration-color: #00af00\">73,856</span> │\n",
       "├──────────────────────────────────────┼─────────────────────────────┼─────────────────┤\n",
       "│ max_pooling2d_2 (<span style=\"color: #0087ff; text-decoration-color: #0087ff\">MaxPooling2D</span>)       │ (<span style=\"color: #00d7ff; text-decoration-color: #00d7ff\">None</span>, <span style=\"color: #00af00; text-decoration-color: #00af00\">14</span>, <span style=\"color: #00af00; text-decoration-color: #00af00\">14</span>, <span style=\"color: #00af00; text-decoration-color: #00af00\">128</span>)         │               <span style=\"color: #00af00; text-decoration-color: #00af00\">0</span> │\n",
       "├──────────────────────────────────────┼─────────────────────────────┼─────────────────┤\n",
       "│ flatten (<span style=\"color: #0087ff; text-decoration-color: #0087ff\">Flatten</span>)                    │ (<span style=\"color: #00d7ff; text-decoration-color: #00d7ff\">None</span>, <span style=\"color: #00af00; text-decoration-color: #00af00\">25088</span>)               │               <span style=\"color: #00af00; text-decoration-color: #00af00\">0</span> │\n",
       "├──────────────────────────────────────┼─────────────────────────────┼─────────────────┤\n",
       "│ dense (<span style=\"color: #0087ff; text-decoration-color: #0087ff\">Dense</span>)                        │ (<span style=\"color: #00d7ff; text-decoration-color: #00d7ff\">None</span>, <span style=\"color: #00af00; text-decoration-color: #00af00\">512</span>)                 │      <span style=\"color: #00af00; text-decoration-color: #00af00\">12,845,568</span> │\n",
       "├──────────────────────────────────────┼─────────────────────────────┼─────────────────┤\n",
       "│ dropout (<span style=\"color: #0087ff; text-decoration-color: #0087ff\">Dropout</span>)                    │ (<span style=\"color: #00d7ff; text-decoration-color: #00d7ff\">None</span>, <span style=\"color: #00af00; text-decoration-color: #00af00\">512</span>)                 │               <span style=\"color: #00af00; text-decoration-color: #00af00\">0</span> │\n",
       "├──────────────────────────────────────┼─────────────────────────────┼─────────────────┤\n",
       "│ dense_1 (<span style=\"color: #0087ff; text-decoration-color: #0087ff\">Dense</span>)                      │ (<span style=\"color: #00d7ff; text-decoration-color: #00d7ff\">None</span>, <span style=\"color: #00af00; text-decoration-color: #00af00\">10</span>)                  │           <span style=\"color: #00af00; text-decoration-color: #00af00\">5,130</span> │\n",
       "└──────────────────────────────────────┴─────────────────────────────┴─────────────────┘\n",
       "</pre>\n"
      ],
      "text/plain": [
       "┏━━━━━━━━━━━━━━━━━━━━━━━━━━━━━━━━━━━━━━┳━━━━━━━━━━━━━━━━━━━━━━━━━━━━━┳━━━━━━━━━━━━━━━━━┓\n",
       "┃\u001b[1m \u001b[0m\u001b[1mLayer (type)                        \u001b[0m\u001b[1m \u001b[0m┃\u001b[1m \u001b[0m\u001b[1mOutput Shape               \u001b[0m\u001b[1m \u001b[0m┃\u001b[1m \u001b[0m\u001b[1m        Param #\u001b[0m\u001b[1m \u001b[0m┃\n",
       "┡━━━━━━━━━━━━━━━━━━━━━━━━━━━━━━━━━━━━━━╇━━━━━━━━━━━━━━━━━━━━━━━━━━━━━╇━━━━━━━━━━━━━━━━━┩\n",
       "│ conv2d (\u001b[38;5;33mConv2D\u001b[0m)                      │ (\u001b[38;5;45mNone\u001b[0m, \u001b[38;5;34m126\u001b[0m, \u001b[38;5;34m126\u001b[0m, \u001b[38;5;34m32\u001b[0m)        │             \u001b[38;5;34m896\u001b[0m │\n",
       "├──────────────────────────────────────┼─────────────────────────────┼─────────────────┤\n",
       "│ max_pooling2d (\u001b[38;5;33mMaxPooling2D\u001b[0m)         │ (\u001b[38;5;45mNone\u001b[0m, \u001b[38;5;34m63\u001b[0m, \u001b[38;5;34m63\u001b[0m, \u001b[38;5;34m32\u001b[0m)          │               \u001b[38;5;34m0\u001b[0m │\n",
       "├──────────────────────────────────────┼─────────────────────────────┼─────────────────┤\n",
       "│ conv2d_1 (\u001b[38;5;33mConv2D\u001b[0m)                    │ (\u001b[38;5;45mNone\u001b[0m, \u001b[38;5;34m61\u001b[0m, \u001b[38;5;34m61\u001b[0m, \u001b[38;5;34m64\u001b[0m)          │          \u001b[38;5;34m18,496\u001b[0m │\n",
       "├──────────────────────────────────────┼─────────────────────────────┼─────────────────┤\n",
       "│ max_pooling2d_1 (\u001b[38;5;33mMaxPooling2D\u001b[0m)       │ (\u001b[38;5;45mNone\u001b[0m, \u001b[38;5;34m30\u001b[0m, \u001b[38;5;34m30\u001b[0m, \u001b[38;5;34m64\u001b[0m)          │               \u001b[38;5;34m0\u001b[0m │\n",
       "├──────────────────────────────────────┼─────────────────────────────┼─────────────────┤\n",
       "│ conv2d_2 (\u001b[38;5;33mConv2D\u001b[0m)                    │ (\u001b[38;5;45mNone\u001b[0m, \u001b[38;5;34m28\u001b[0m, \u001b[38;5;34m28\u001b[0m, \u001b[38;5;34m128\u001b[0m)         │          \u001b[38;5;34m73,856\u001b[0m │\n",
       "├──────────────────────────────────────┼─────────────────────────────┼─────────────────┤\n",
       "│ max_pooling2d_2 (\u001b[38;5;33mMaxPooling2D\u001b[0m)       │ (\u001b[38;5;45mNone\u001b[0m, \u001b[38;5;34m14\u001b[0m, \u001b[38;5;34m14\u001b[0m, \u001b[38;5;34m128\u001b[0m)         │               \u001b[38;5;34m0\u001b[0m │\n",
       "├──────────────────────────────────────┼─────────────────────────────┼─────────────────┤\n",
       "│ flatten (\u001b[38;5;33mFlatten\u001b[0m)                    │ (\u001b[38;5;45mNone\u001b[0m, \u001b[38;5;34m25088\u001b[0m)               │               \u001b[38;5;34m0\u001b[0m │\n",
       "├──────────────────────────────────────┼─────────────────────────────┼─────────────────┤\n",
       "│ dense (\u001b[38;5;33mDense\u001b[0m)                        │ (\u001b[38;5;45mNone\u001b[0m, \u001b[38;5;34m512\u001b[0m)                 │      \u001b[38;5;34m12,845,568\u001b[0m │\n",
       "├──────────────────────────────────────┼─────────────────────────────┼─────────────────┤\n",
       "│ dropout (\u001b[38;5;33mDropout\u001b[0m)                    │ (\u001b[38;5;45mNone\u001b[0m, \u001b[38;5;34m512\u001b[0m)                 │               \u001b[38;5;34m0\u001b[0m │\n",
       "├──────────────────────────────────────┼─────────────────────────────┼─────────────────┤\n",
       "│ dense_1 (\u001b[38;5;33mDense\u001b[0m)                      │ (\u001b[38;5;45mNone\u001b[0m, \u001b[38;5;34m10\u001b[0m)                  │           \u001b[38;5;34m5,130\u001b[0m │\n",
       "└──────────────────────────────────────┴─────────────────────────────┴─────────────────┘\n"
      ]
     },
     "metadata": {},
     "output_type": "display_data"
    },
    {
     "data": {
      "text/html": [
       "<pre style=\"white-space:pre;overflow-x:auto;line-height:normal;font-family:Menlo,'DejaVu Sans Mono',consolas,'Courier New',monospace\"><span style=\"font-weight: bold\"> Total params: </span><span style=\"color: #00af00; text-decoration-color: #00af00\">12,943,946</span> (49.38 MB)\n",
       "</pre>\n"
      ],
      "text/plain": [
       "\u001b[1m Total params: \u001b[0m\u001b[38;5;34m12,943,946\u001b[0m (49.38 MB)\n"
      ]
     },
     "metadata": {},
     "output_type": "display_data"
    },
    {
     "data": {
      "text/html": [
       "<pre style=\"white-space:pre;overflow-x:auto;line-height:normal;font-family:Menlo,'DejaVu Sans Mono',consolas,'Courier New',monospace\"><span style=\"font-weight: bold\"> Trainable params: </span><span style=\"color: #00af00; text-decoration-color: #00af00\">12,943,946</span> (49.38 MB)\n",
       "</pre>\n"
      ],
      "text/plain": [
       "\u001b[1m Trainable params: \u001b[0m\u001b[38;5;34m12,943,946\u001b[0m (49.38 MB)\n"
      ]
     },
     "metadata": {},
     "output_type": "display_data"
    },
    {
     "data": {
      "text/html": [
       "<pre style=\"white-space:pre;overflow-x:auto;line-height:normal;font-family:Menlo,'DejaVu Sans Mono',consolas,'Courier New',monospace\"><span style=\"font-weight: bold\"> Non-trainable params: </span><span style=\"color: #00af00; text-decoration-color: #00af00\">0</span> (0.00 B)\n",
       "</pre>\n"
      ],
      "text/plain": [
       "\u001b[1m Non-trainable params: \u001b[0m\u001b[38;5;34m0\u001b[0m (0.00 B)\n"
      ]
     },
     "metadata": {},
     "output_type": "display_data"
    },
    {
     "name": "stdout",
     "output_type": "stream",
     "text": [
      "\n",
      "모델 학습을 시작합니다...\n",
      "Epoch 1/20\n",
      "\u001b[1m175/175\u001b[0m \u001b[32m━━━━━━━━━━━━━━━━━━━━\u001b[0m\u001b[37m\u001b[0m \u001b[1m18s\u001b[0m 98ms/step - accuracy: 0.1313 - loss: 2.3044 - val_accuracy: 0.2371 - val_loss: 2.0514\n",
      "Epoch 2/20\n",
      "\u001b[1m175/175\u001b[0m \u001b[32m━━━━━━━━━━━━━━━━━━━━\u001b[0m\u001b[37m\u001b[0m \u001b[1m17s\u001b[0m 98ms/step - accuracy: 0.2394 - loss: 1.9951 - val_accuracy: 0.3843 - val_loss: 1.6506\n",
      "Epoch 3/20\n",
      "\u001b[1m175/175\u001b[0m \u001b[32m━━━━━━━━━━━━━━━━━━━━\u001b[0m\u001b[37m\u001b[0m \u001b[1m17s\u001b[0m 96ms/step - accuracy: 0.4569 - loss: 1.4948 - val_accuracy: 0.5986 - val_loss: 1.1762\n",
      "Epoch 4/20\n",
      "\u001b[1m175/175\u001b[0m \u001b[32m━━━━━━━━━━━━━━━━━━━━\u001b[0m\u001b[37m\u001b[0m \u001b[1m17s\u001b[0m 97ms/step - accuracy: 0.6498 - loss: 1.0262 - val_accuracy: 0.7214 - val_loss: 0.8687\n",
      "Epoch 5/20\n",
      "\u001b[1m175/175\u001b[0m \u001b[32m━━━━━━━━━━━━━━━━━━━━\u001b[0m\u001b[37m\u001b[0m \u001b[1m17s\u001b[0m 97ms/step - accuracy: 0.7794 - loss: 0.6568 - val_accuracy: 0.6943 - val_loss: 0.8558\n",
      "Epoch 6/20\n",
      "\u001b[1m175/175\u001b[0m \u001b[32m━━━━━━━━━━━━━━━━━━━━\u001b[0m\u001b[37m\u001b[0m \u001b[1m17s\u001b[0m 96ms/step - accuracy: 0.8669 - loss: 0.4324 - val_accuracy: 0.7729 - val_loss: 0.8095\n",
      "Epoch 7/20\n",
      "\u001b[1m175/175\u001b[0m \u001b[32m━━━━━━━━━━━━━━━━━━━━\u001b[0m\u001b[37m\u001b[0m \u001b[1m17s\u001b[0m 98ms/step - accuracy: 0.9102 - loss: 0.2784 - val_accuracy: 0.7943 - val_loss: 0.7455\n",
      "Epoch 8/20\n",
      "\u001b[1m175/175\u001b[0m \u001b[32m━━━━━━━━━━━━━━━━━━━━\u001b[0m\u001b[37m\u001b[0m \u001b[1m17s\u001b[0m 97ms/step - accuracy: 0.9393 - loss: 0.1948 - val_accuracy: 0.7900 - val_loss: 0.7779\n",
      "Epoch 9/20\n",
      "\u001b[1m175/175\u001b[0m \u001b[32m━━━━━━━━━━━━━━━━━━━━\u001b[0m\u001b[37m\u001b[0m \u001b[1m17s\u001b[0m 97ms/step - accuracy: 0.9531 - loss: 0.1508 - val_accuracy: 0.8000 - val_loss: 0.8260\n",
      "Epoch 10/20\n",
      "\u001b[1m175/175\u001b[0m \u001b[32m━━━━━━━━━━━━━━━━━━━━\u001b[0m\u001b[37m\u001b[0m \u001b[1m17s\u001b[0m 97ms/step - accuracy: 0.9730 - loss: 0.0874 - val_accuracy: 0.7929 - val_loss: 0.7820\n",
      "Epoch 11/20\n",
      "\u001b[1m175/175\u001b[0m \u001b[32m━━━━━━━━━━━━━━━━━━━━\u001b[0m\u001b[37m\u001b[0m \u001b[1m17s\u001b[0m 96ms/step - accuracy: 0.9757 - loss: 0.0903 - val_accuracy: 0.8271 - val_loss: 0.7266\n",
      "Epoch 12/20\n",
      "\u001b[1m175/175\u001b[0m \u001b[32m━━━━━━━━━━━━━━━━━━━━\u001b[0m\u001b[37m\u001b[0m \u001b[1m17s\u001b[0m 97ms/step - accuracy: 0.9763 - loss: 0.0737 - val_accuracy: 0.8414 - val_loss: 0.8039\n",
      "Epoch 13/20\n",
      "\u001b[1m175/175\u001b[0m \u001b[32m━━━━━━━━━━━━━━━━━━━━\u001b[0m\u001b[37m\u001b[0m \u001b[1m17s\u001b[0m 97ms/step - accuracy: 0.9829 - loss: 0.0626 - val_accuracy: 0.8357 - val_loss: 0.7521\n",
      "Epoch 14/20\n",
      "\u001b[1m175/175\u001b[0m \u001b[32m━━━━━━━━━━━━━━━━━━━━\u001b[0m\u001b[37m\u001b[0m \u001b[1m17s\u001b[0m 97ms/step - accuracy: 0.9757 - loss: 0.0811 - val_accuracy: 0.8314 - val_loss: 0.9535\n",
      "Epoch 15/20\n",
      "\u001b[1m175/175\u001b[0m \u001b[32m━━━━━━━━━━━━━━━━━━━━\u001b[0m\u001b[37m\u001b[0m \u001b[1m17s\u001b[0m 97ms/step - accuracy: 0.9848 - loss: 0.0541 - val_accuracy: 0.8314 - val_loss: 0.8444\n",
      "Epoch 16/20\n",
      "\u001b[1m175/175\u001b[0m \u001b[32m━━━━━━━━━━━━━━━━━━━━\u001b[0m\u001b[37m\u001b[0m \u001b[1m17s\u001b[0m 99ms/step - accuracy: 0.9773 - loss: 0.0758 - val_accuracy: 0.8329 - val_loss: 0.7830\n",
      "Epoch 17/20\n",
      "\u001b[1m175/175\u001b[0m \u001b[32m━━━━━━━━━━━━━━━━━━━━\u001b[0m\u001b[37m\u001b[0m \u001b[1m18s\u001b[0m 101ms/step - accuracy: 0.9899 - loss: 0.0492 - val_accuracy: 0.8586 - val_loss: 0.7260\n",
      "Epoch 18/20\n",
      "\u001b[1m175/175\u001b[0m \u001b[32m━━━━━━━━━━━━━━━━━━━━\u001b[0m\u001b[37m\u001b[0m \u001b[1m19s\u001b[0m 107ms/step - accuracy: 0.9934 - loss: 0.0255 - val_accuracy: 0.8400 - val_loss: 0.8308\n",
      "Epoch 19/20\n",
      "\u001b[1m175/175\u001b[0m \u001b[32m━━━━━━━━━━━━━━━━━━━━\u001b[0m\u001b[37m\u001b[0m \u001b[1m18s\u001b[0m 102ms/step - accuracy: 0.9927 - loss: 0.0278 - val_accuracy: 0.8429 - val_loss: 0.7452\n",
      "Epoch 20/20\n",
      "\u001b[1m175/175\u001b[0m \u001b[32m━━━━━━━━━━━━━━━━━━━━\u001b[0m\u001b[37m\u001b[0m \u001b[1m18s\u001b[0m 102ms/step - accuracy: 0.9902 - loss: 0.0374 - val_accuracy: 0.8457 - val_loss: 0.7512\n",
      "\n",
      "✅ 모델 학습 완료!\n"
     ]
    }
   ],
   "source": [
    "# --- 모델 설계 ---\n",
    "model = Sequential([\n",
    "    # 특징 추출부 (Convolutional Base)\n",
    "    Conv2D(32, (3, 3), activation='relu', input_shape=(IMG_SIZE, IMG_SIZE, 3)),\n",
    "    MaxPooling2D((2, 2)),\n",
    "    \n",
    "    Conv2D(64, (3, 3), activation='relu'),\n",
    "    MaxPooling2D((2, 2)),\n",
    "    \n",
    "    Conv2D(128, (3, 3), activation='relu'),\n",
    "    MaxPooling2D((2, 2)),\n",
    "\n",
    "    # 분류부 (Classifier)\n",
    "    Flatten(),\n",
    "    Dense(512, activation='relu'),\n",
    "    # 모델의 일반화 성능을 높이기 위해\n",
    "    Dropout(0.5), # 과적합 방지를 위한 Dropout\n",
    "    Dense(num_classes, activation='softmax') # 클래스 개수에 맞춘 출력층\n",
    "])\n",
    "\n",
    "# --- 모델 컴파일 ---\n",
    "model.compile(optimizer='adam',\n",
    "              loss='categorical_crossentropy', # 다중 분류 문제이므로 categorical_crossentropy 사용\n",
    "              metrics=['accuracy'])\n",
    "\n",
    "model.summary()\n",
    "\n",
    "\n",
    "# --- 모델 학습 ---\n",
    "print(\"\\n모델 학습을 시작합니다...\")\n",
    "history = model.fit(\n",
    "    X_train, y_train,\n",
    "    epochs=20,\n",
    "    batch_size=32,\n",
    "    validation_data=(X_val, y_val)\n",
    ")\n",
    "\n",
    "print(\"\\n✅ 모델 학습 완료!\")"
   ]
  },
  {
   "cell_type": "markdown",
   "id": "21fcf9ee",
   "metadata": {},
   "source": [
    "## 모델 성능 평가 (Model Performance Evaluation)"
   ]
  },
  {
   "cell_type": "code",
   "execution_count": null,
   "id": "b6b4dd13-5319-4d10-a3de-539e0bc04395",
   "metadata": {},
   "outputs": [
    {
     "name": "stdout",
     "output_type": "stream",
     "text": [
      "\n",
      "테스트 데이터로 모델 성능을 평가합니다...\n",
      "22/22 - 0s - 20ms/step - accuracy: 0.8629 - loss: 0.8401\n",
      "\n",
      "테스트 손실 (Loss): 0.8401\n",
      "테스트 정확도 (Accuracy): 0.8629\n"
     ]
    }
   ],
   "source": [
    "print(\"\\n테스트 데이터로 모델 성능을 평가합니다...\")\n",
    "\n",
    "# `model.evaluate()`함수를 사용하여 한 번도 학습에 사용되지 않은 테스트 데이터에 대한 손실과, 정확도를 계산\n",
    "test_loss, test_accuracy = model.evaluate(X_test, y_test, verbose=2)\n",
    "\n",
    "print(f\"\\n테스트 손실 (Loss): {test_loss:.4f}\")\n",
    "print(f\"테스트 정확도 (Accuracy): {test_accuracy:.4f}\")"
   ]
  },
  {
   "cell_type": "markdown",
   "id": "7fb1e639",
   "metadata": {},
   "source": [
    "## 개별 이지미 예측 및 결과 확인(Individual Image Prediction and Result Verification)"
   ]
  },
  {
   "cell_type": "code",
   "execution_count": null,
   "id": "5bdf00fc-b6db-4917-ad55-2b44dc8cb4f3",
   "metadata": {},
   "outputs": [
    {
     "name": "stdout",
     "output_type": "stream",
     "text": [
      "\u001b[1m1/1\u001b[0m \u001b[32m━━━━━━━━━━━━━━━━━━━━\u001b[0m\u001b[37m\u001b[0m \u001b[1m0s\u001b[0m 14ms/step\n"
     ]
    },
    {
     "name": "stderr",
     "output_type": "stream",
     "text": [
      "C:\\Users\\dudgh\\miniconda3\\Lib\\site-packages\\IPython\\core\\pylabtools.py:152: UserWarning: Glyph 51221 (\\N{HANGUL SYLLABLE JEONG}) missing from font(s) DejaVu Sans.\n",
      "  fig.canvas.print_figure(bytes_io, **kw)\n",
      "C:\\Users\\dudgh\\miniconda3\\Lib\\site-packages\\IPython\\core\\pylabtools.py:152: UserWarning: Glyph 45813 (\\N{HANGUL SYLLABLE DAB}) missing from font(s) DejaVu Sans.\n",
      "  fig.canvas.print_figure(bytes_io, **kw)\n",
      "C:\\Users\\dudgh\\miniconda3\\Lib\\site-packages\\IPython\\core\\pylabtools.py:152: UserWarning: Glyph 50696 (\\N{HANGUL SYLLABLE YE}) missing from font(s) DejaVu Sans.\n",
      "  fig.canvas.print_figure(bytes_io, **kw)\n",
      "C:\\Users\\dudgh\\miniconda3\\Lib\\site-packages\\IPython\\core\\pylabtools.py:152: UserWarning: Glyph 52769 (\\N{HANGUL SYLLABLE CEUG}) missing from font(s) DejaVu Sans.\n",
      "  fig.canvas.print_figure(bytes_io, **kw)\n"
     ]
    },
    {
     "data": {
      "image/png": "[encoded data removed]",
      "text/plain": [
       "<Figure size 600x600 with 1 Axes>"
      ]
     },
     "metadata": {},
     "output_type": "display_data"
    },
    {
     "name": "stdout",
     "output_type": "stream",
     "text": [
      "✅ 정답 약 이름: Bactidol\n",
      "✅ 모델의 예측: Bactidol\n",
      "\n",
      "정확하게 예측했습니다! 🎉\n"
     ]
    }
   ],
   "source": [
    "import matplotlib.pyplot as plt\n",
    "import numpy as np\n",
    "\n",
    "# 테스트할 이미지 선택 (0부터 699 사이의 숫자를 바꿔보세요)\n",
    "image_index = 55 \n",
    "\n",
    "# 테스트 데이터셋에서 이미지와 정답 레이블 가져오기\n",
    "test_image = X_test[image_index]\n",
    "true_label_one_hot = y_test[image_index]\n",
    "\n",
    "# 원-핫 인코딩된 정답 레이블을 다시 약 이름으로 변환\n",
    "true_label_index = np.argmax(true_label_one_hot)\n",
    "true_label_name = label_encoder.inverse_transform([true_label_index])[0]\n",
    "\n",
    "# 모델 예측을 위해 이미지 형태 변경 (1, 128, 128, 3)\n",
    "image_for_prediction = np.expand_dims(test_image, axis=0)\n",
    "\n",
    "# 모델을 사용해 예측 수행\n",
    "prediction_probabilities = model.predict(image_for_prediction)\n",
    "predicted_index = np.argmax(prediction_probabilities)\n",
    "\n",
    "# 예측된 인덱스를 약 이름으로 변환\n",
    "predicted_label_name = label_encoder.inverse_transform([predicted_index])[0]\n",
    "\n",
    "# --- 결과 시각화 ---\n",
    "plt.figure(figsize=(6, 6))\n",
    "plt.imshow(test_image)\n",
    "plt.title(f\"정답: {true_label_name}\\n예측: {predicted_label_name}\", fontsize=14)\n",
    "plt.axis('off')\n",
    "plt.show()\n",
    "\n",
    "print(f\"✅ 정답 약 이름: {true_label_name}\")\n",
    "print(f\"✅ 모델의 예측: {predicted_label_name}\")\n",
    "\n",
    "if true_label_name == predicted_label_name:\n",
    "    print(\"\\n정확하게 예측했습니다! 🎉\")\n",
    "else:\n",
    "    print(\"\\n예측이 틀렸습니다. 😥\")"
   ]
  },
  {
   "cell_type": "code",
   "execution_count": null,
   "id": "c1f50bb0-782c-4b55-8cfd-c665e3fc9c1e",
   "metadata": {},
   "outputs": [],
   "source": []
  }
 ],
 "metadata": {
  "kernelspec": {
   "display_name": "Python 3 (ipykernel)",
   "language": "python",
   "name": "python3"
  },
  "language_info": {
   "codemirror_mode": {
    "name": "ipython",
    "version": 3
   },
   "file_extension": ".py",
   "mimetype": "text/x-python",
   "name": "python",
   "nbconvert_exporter": "python",
   "pygments_lexer": "ipython3",
   "version": "3.11.13"
  }
 },
 "nbformat": 4,
 "nbformat_minor": 5
}
